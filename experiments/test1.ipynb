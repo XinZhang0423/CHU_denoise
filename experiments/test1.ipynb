{
 "cells": [
  {
   "cell_type": "code",
   "execution_count": 6,
   "metadata": {},
   "outputs": [
    {
     "name": "stdout",
     "output_type": "stream",
     "text": [
      "/home/xzhang/Documents/我的模型\n",
      "/home/xzhang/Documents\n"
     ]
    }
   ],
   "source": [
    "import os\n",
    "current_path = os.getcwd()\n",
    "print(current_path)\n",
    "os.chdir(\"..\")\n",
    "current_path = os.getcwd()\n",
    "print(current_path)"
   ]
  },
  {
   "cell_type": "code",
   "execution_count": 7,
   "metadata": {},
   "outputs": [],
   "source": [
    "# 第一个实验用于解决learning curve不平滑的问题\n",
    "# learning curve 有很多peak， 我们要尝试多种可能解决掉这个问题 tune.run\n",
    "# trial 1 改变学习率，找到最优学习率\n",
    "# 配置： 迭代了10000次，输入uniform 0 0.1, target ground_truth\n",
    "# 观察到大的学习率会出现震荡，小的学习率效果不错，数量级大约在0.0007，0.0004，0.0001，这样数量级的学习率不会出现问题，\n",
    "# 结果保存在test1_logs中了\n",
    "# 接下来 trial 2\n",
    "# 试着跑1000次看看效果，并且测试不同的targets，看看有什么影响，也在test1_logs中\n",
    "# 模型相关\n",
    "import torch\n",
    "from models.DIP_2D import DIP_2D\n",
    "import pytorch_lightning as pl\n",
    "import numpy as np\n",
    "\n",
    "# 画图相关\n",
    "import matplotlib.pyplot as plt\n",
    "\n",
    "# 文件读写相关\n",
    "import csv\n",
    "from config.config_tune import *\n",
    "from config.config import config\n",
    "import pandas as pd\n",
    "import csv\n",
    "\n",
    "# 自定义函数\n",
    "from utils.pre_utils import *\n",
    "\n",
    "from functools import partial\n",
    "\n",
    "import datetime\n",
    "\n",
    "\n"
   ]
  },
  {
   "cell_type": "code",
   "execution_count": 8,
   "metadata": {},
   "outputs": [],
   "source": [
    "path_input = \"data/noisy_images/uniform_noise.npy\"\n",
    "path_ground_truth = \"data/ground_truth/ground_truth.npy\"\n",
    "path_target_list = [\"data/ground_truth/ground_truth.npy\",\"data/corrupted_images/BSREM_it30.npy\",\"data/noisy_images/uniform_noise2.npy\"]"
   ]
  },
  {
   "cell_type": "code",
   "execution_count": 9,
   "metadata": {},
   "outputs": [
    {
     "ename": "FileNotFoundError",
     "evalue": "[Errno 2] No such file or directory: 'data/noisy_images/uniform_noise.npy'",
     "output_type": "error",
     "traceback": [
      "\u001b[0;31m---------------------------------------------------------------------------\u001b[0m",
      "\u001b[0;31mFileNotFoundError\u001b[0m                         Traceback (most recent call last)",
      "Cell \u001b[0;32mIn[9], line 1\u001b[0m\n\u001b[0;32m----> 1\u001b[0m image_net_input \u001b[39m=\u001b[39m np\u001b[39m.\u001b[39;49mload(path_input)\n\u001b[1;32m      2\u001b[0m \u001b[39m# image_net_input_scale,param1_scale_im_net,param2_scale_im_net = rescale_imag(image_net_input,\"standardization\") \u001b[39;00m\n\u001b[1;32m      3\u001b[0m \u001b[39m# image_net_input_torch = torch.Tensor(image_net_input_scale)\u001b[39;00m\n\u001b[1;32m      4\u001b[0m image_net_input_torch \u001b[39m=\u001b[39m torch\u001b[39m.\u001b[39mTensor(image_net_input)\n",
      "File \u001b[0;32m~/miniconda3/envs/dip/lib/python3.8/site-packages/numpy/lib/npyio.py:405\u001b[0m, in \u001b[0;36mload\u001b[0;34m(file, mmap_mode, allow_pickle, fix_imports, encoding, max_header_size)\u001b[0m\n\u001b[1;32m    403\u001b[0m     own_fid \u001b[39m=\u001b[39m \u001b[39mFalse\u001b[39;00m\n\u001b[1;32m    404\u001b[0m \u001b[39melse\u001b[39;00m:\n\u001b[0;32m--> 405\u001b[0m     fid \u001b[39m=\u001b[39m stack\u001b[39m.\u001b[39menter_context(\u001b[39mopen\u001b[39;49m(os_fspath(file), \u001b[39m\"\u001b[39;49m\u001b[39mrb\u001b[39;49m\u001b[39m\"\u001b[39;49m))\n\u001b[1;32m    406\u001b[0m     own_fid \u001b[39m=\u001b[39m \u001b[39mTrue\u001b[39;00m\n\u001b[1;32m    408\u001b[0m \u001b[39m# Code to distinguish from NumPy binary files and pickles.\u001b[39;00m\n",
      "\u001b[0;31mFileNotFoundError\u001b[0m: [Errno 2] No such file or directory: 'data/noisy_images/uniform_noise.npy'"
     ]
    }
   ],
   "source": [
    "image_net_input = np.load(path_input)\n",
    "# image_net_input_scale,param1_scale_im_net,param2_scale_im_net = rescale_imag(image_net_input,\"standardization\") \n",
    "# image_net_input_torch = torch.Tensor(image_net_input_scale)\n",
    "image_net_input_torch = torch.Tensor(image_net_input)\n",
    "image_net_input_torch = image_net_input_torch.view(1,1,PETImage_shape[0],PETImage_shape[1],PETImage_shape[2])\n",
    "image_net_input_torch = image_net_input_torch[:,:,:,:,0]\n",
    "ground_truth = np.load(path_ground_truth)\n",
    "\n",
    "def main(config,train_dataloader,param1,param2,image_corrupt,target):\n",
    "    checkpoint_simple_path = os.getcwd()\n",
    "    # 创建TensorBoardLogger，注意savedir和后面打开tensorboard时的路径要一致，versions是啥？\n",
    "    logger = pl.loggers.TensorBoardLogger(save_dir=checkpoint_simple_path)\n",
    "    # 读取并导入模型\n",
    "    model = DIP_2D(param1, param2,config,'data/Algo/',\n",
    "                \"nested\",all_images_DIP=\"Last\",global_it=-100, suffix=\"suffix\", last_iter=-1,ground_truth=ground_truth)\n",
    "    model_class = DIP_2D\n",
    "    # 设置log路径保存在runs目录\n",
    "\n",
    "    print(config[\"sub_iter_DIP\"])\n",
    "    trainer = pl.Trainer(max_epochs=config[\"sub_iter_DIP\"],log_every_n_steps=100,logger=logger)#, callbacks=[checkpoint_callback, tuning_callback, early_stopping_callback], logger=logger,gpus=gpus, accelerator=accelerator, profiler=\"simple\")\n",
    "    trainer.fit(model, train_dataloader)\n",
    "    out = model(image_net_input_torch)\n",
    "    image_out = out.view(PETImage_shape[0],PETImage_shape[1],PETImage_shape[2]).detach().numpy()\n",
    "    image_concat = np.concatenate((image_corrupt, destand_numpy_imag(image_out,param1,param2)), axis=1)\n",
    "    image_reversed =np.max(image_concat)-image_concat\n",
    "    plt.imsave(f\"{config_tune['lr']}_{target.split('/')[-1].split('.')[0]}.png\", np.squeezeimage_reversed, cmap='gray')\n",
    "    # plt.imshow(image_reversed, cmap='gray')\n",
    "    # plt.show()  "
   ]
  },
  {
   "cell_type": "code",
   "execution_count": null,
   "metadata": {},
   "outputs": [
    {
     "name": "stdout",
     "output_type": "stream",
     "text": [
      "staaaaaaaaaaand\n"
     ]
    },
    {
     "name": "stderr",
     "output_type": "stream",
     "text": [
      "2023-04-25 16:36:18,312\tINFO worker.py:1553 -- Started a local Ray instance.\n"
     ]
    },
    {
     "data": {
      "text/html": [
       "<div class=\"tuneStatus\">\n",
       "  <div style=\"display: flex;flex-direction: row\">\n",
       "    <div style=\"display: flex;flex-direction: column;\">\n",
       "      <h3>Tune Status</h3>\n",
       "      <table>\n",
       "<tbody>\n",
       "<tr><td>Current time:</td><td>2023-04-25 16:36:21</td></tr>\n",
       "<tr><td>Running for: </td><td>00:00:02.37        </td></tr>\n",
       "<tr><td>Memory:      </td><td>145.4/251.5 GiB    </td></tr>\n",
       "</tbody>\n",
       "</table>\n",
       "    </div>\n",
       "    <div class=\"vDivider\"></div>\n",
       "    <div class=\"systemInfo\">\n",
       "      <h3>System Info</h3>\n",
       "      Using FIFO scheduling algorithm.<br>Resources requested: 1.0/64 CPUs, 0/1 GPUs, 0.0/67.54 GiB heap, 0.0/32.94 GiB objects (0.0/1.0 accelerator_type:RTX)\n",
       "    </div>\n",
       "    \n",
       "  </div>\n",
       "  <div class=\"hDivider\"></div>\n",
       "  <div class=\"trialStatus\">\n",
       "    <h3>Trial Status</h3>\n",
       "    <table>\n",
       "<thead>\n",
       "<tr><th>Trial name      </th><th>status  </th><th>loc                  </th><th>initial_param  </th><th style=\"text-align: right;\">   lr</th></tr>\n",
       "</thead>\n",
       "<tbody>\n",
       "<tr><td>main_8ae67_00000</td><td>RUNNING </td><td>172.27.198.43:1005202</td><td>xavier_norm    </td><td style=\"text-align: right;\">0.001</td></tr>\n",
       "<tr><td>main_8ae67_00001</td><td>PENDING </td><td>                     </td><td>xavier_uniform </td><td style=\"text-align: right;\">0.001</td></tr>\n",
       "<tr><td>main_8ae67_00002</td><td>PENDING </td><td>                     </td><td>kaiming_norm   </td><td style=\"text-align: right;\">0.001</td></tr>\n",
       "<tr><td>main_8ae67_00003</td><td>PENDING </td><td>                     </td><td>kaiming_uniform</td><td style=\"text-align: right;\">0.001</td></tr>\n",
       "<tr><td>main_8ae67_00004</td><td>PENDING </td><td>                     </td><td>xavier_norm    </td><td style=\"text-align: right;\">0.01 </td></tr>\n",
       "<tr><td>main_8ae67_00005</td><td>PENDING </td><td>                     </td><td>xavier_uniform </td><td style=\"text-align: right;\">0.01 </td></tr>\n",
       "<tr><td>main_8ae67_00006</td><td>PENDING </td><td>                     </td><td>kaiming_norm   </td><td style=\"text-align: right;\">0.01 </td></tr>\n",
       "<tr><td>main_8ae67_00007</td><td>PENDING </td><td>                     </td><td>kaiming_uniform</td><td style=\"text-align: right;\">0.01 </td></tr>\n",
       "</tbody>\n",
       "</table>\n",
       "  </div>\n",
       "</div>\n",
       "<style>\n",
       ".tuneStatus {\n",
       "  color: var(--jp-ui-font-color1);\n",
       "}\n",
       ".tuneStatus .systemInfo {\n",
       "  display: flex;\n",
       "  flex-direction: column;\n",
       "}\n",
       ".tuneStatus td {\n",
       "  white-space: nowrap;\n",
       "}\n",
       ".tuneStatus .trialStatus {\n",
       "  display: flex;\n",
       "  flex-direction: column;\n",
       "}\n",
       ".tuneStatus h3 {\n",
       "  font-weight: bold;\n",
       "}\n",
       ".tuneStatus .hDivider {\n",
       "  border-bottom-width: var(--jp-border-width);\n",
       "  border-bottom-color: var(--jp-border-color0);\n",
       "  border-bottom-style: solid;\n",
       "}\n",
       ".tuneStatus .vDivider {\n",
       "  border-left-width: var(--jp-border-width);\n",
       "  border-left-color: var(--jp-border-color0);\n",
       "  border-left-style: solid;\n",
       "  margin: 0.5em 1em 0.5em 1em;\n",
       "}\n",
       "</style>\n"
      ],
      "text/plain": [
       "<IPython.core.display.HTML object>"
      ]
     },
     "metadata": {},
     "output_type": "display_data"
    },
    {
     "name": "stderr",
     "output_type": "stream",
     "text": [
      "\u001b[2m\u001b[36m(pid=1005202)\u001b[0m /home/xzhang/miniconda3/envs/dip/lib/python3.8/site-packages/scipy/__init__.py:138: UserWarning: A NumPy version >=1.16.5 and <1.23.0 is required for this version of SciPy (detected version 1.23.5)\n",
      "\u001b[2m\u001b[36m(pid=1005202)\u001b[0m   warnings.warn(f\"A NumPy version >={np_minversion} and <{np_maxversion} is required for this version of \"\n",
      "2023-04-25 16:36:22,043\tERROR trial_runner.py:1062 -- Trial main_8ae67_00000: Error processing event.\n",
      "ray.exceptions.RayTaskError(TypeError): \u001b[36mray::ImplicitFunc.train()\u001b[39m (pid=1005202, ip=172.27.198.43, repr=func)\n",
      "  File \"/home/xzhang/miniconda3/envs/dip/lib/python3.8/site-packages/ray/tune/trainable/trainable.py\", line 368, in train\n",
      "    raise skipped from exception_cause(skipped)\n",
      "  File \"/home/xzhang/miniconda3/envs/dip/lib/python3.8/site-packages/ray/tune/trainable/function_trainable.py\", line 337, in entrypoint\n",
      "    return self._trainable_func(\n",
      "  File \"/home/xzhang/miniconda3/envs/dip/lib/python3.8/site-packages/ray/tune/trainable/function_trainable.py\", line 654, in _trainable_func\n",
      "    output = fn()\n",
      "  File \"/tmp/ipykernel_999553/2704497330.py\", line 14, in main\n",
      "TypeError: __init__() missing 1 required positional argument: 'initial_param'\n"
     ]
    },
    {
     "data": {
      "text/html": [
       "<div class=\"trialProgress\">\n",
       "  <h3>Trial Progress</h3>\n",
       "  <table>\n",
       "<thead>\n",
       "<tr><th>Trial name      </th><th>date               </th><th>experiment_id                   </th><th>hostname     </th><th>node_ip      </th><th style=\"text-align: right;\">    pid</th><th style=\"text-align: right;\">  timestamp</th><th>trial_id   </th></tr>\n",
       "</thead>\n",
       "<tbody>\n",
       "<tr><td>main_8ae67_00000</td><td>2023-04-25_16-36-21</td><td>f4a13d938c314117abe465872ae6bfe0</td><td>pc-chu-208403</td><td>172.27.198.43</td><td style=\"text-align: right;\">1005202</td><td style=\"text-align: right;\"> 1682433381</td><td>8ae67_00000</td></tr>\n",
       "<tr><td>main_8ae67_00004</td><td>2023-04-25_16-36-24</td><td>ca1f65daaf3e4b31b4a7e54dc9889e82</td><td>pc-chu-208403</td><td>172.27.198.43</td><td style=\"text-align: right;\">1005329</td><td style=\"text-align: right;\"> 1682433384</td><td>8ae67_00004</td></tr>\n",
       "<tr><td>main_8ae67_00005</td><td>2023-04-25_16-36-24</td><td>9aff26e2bf0c414aaf7d236b48916b22</td><td>pc-chu-208403</td><td>172.27.198.43</td><td style=\"text-align: right;\">1005331</td><td style=\"text-align: right;\"> 1682433384</td><td>8ae67_00005</td></tr>\n",
       "</tbody>\n",
       "</table>\n",
       "</div>\n",
       "<style>\n",
       ".trialProgress {\n",
       "  display: flex;\n",
       "  flex-direction: column;\n",
       "  color: var(--jp-ui-font-color1);\n",
       "}\n",
       ".trialProgress h3 {\n",
       "  font-weight: bold;\n",
       "}\n",
       ".trialProgress td {\n",
       "  white-space: nowrap;\n",
       "}\n",
       "</style>\n"
      ],
      "text/plain": [
       "<IPython.core.display.HTML object>"
      ]
     },
     "metadata": {},
     "output_type": "display_data"
    },
    {
     "name": "stderr",
     "output_type": "stream",
     "text": [
      "\u001b[2m\u001b[36m(pid=1005333)\u001b[0m /home/xzhang/miniconda3/envs/dip/lib/python3.8/site-packages/scipy/__init__.py:138: UserWarning: A NumPy version >=1.16.5 and <1.23.0 is required for this version of SciPy (detected version 1.23.5)\n",
      "\u001b[2m\u001b[36m(pid=1005333)\u001b[0m   warnings.warn(f\"A NumPy version >={np_minversion} and <{np_maxversion} is required for this version of \"\n",
      "\u001b[2m\u001b[36m(pid=1005327)\u001b[0m /home/xzhang/miniconda3/envs/dip/lib/python3.8/site-packages/scipy/__init__.py:138: UserWarning: A NumPy version >=1.16.5 and <1.23.0 is required for this version of SciPy (detected version 1.23.5)\n",
      "\u001b[2m\u001b[36m(pid=1005327)\u001b[0m   warnings.warn(f\"A NumPy version >={np_minversion} and <{np_maxversion} is required for this version of \"\n",
      "\u001b[2m\u001b[36m(pid=1005329)\u001b[0m /home/xzhang/miniconda3/envs/dip/lib/python3.8/site-packages/scipy/__init__.py:138: UserWarning: A NumPy version >=1.16.5 and <1.23.0 is required for this version of SciPy (detected version 1.23.5)\n",
      "\u001b[2m\u001b[36m(pid=1005329)\u001b[0m   warnings.warn(f\"A NumPy version >={np_minversion} and <{np_maxversion} is required for this version of \"\n",
      "\u001b[2m\u001b[36m(pid=1005331)\u001b[0m /home/xzhang/miniconda3/envs/dip/lib/python3.8/site-packages/scipy/__init__.py:138: UserWarning: A NumPy version >=1.16.5 and <1.23.0 is required for this version of SciPy (detected version 1.23.5)\n",
      "\u001b[2m\u001b[36m(pid=1005331)\u001b[0m   warnings.warn(f\"A NumPy version >={np_minversion} and <{np_maxversion} is required for this version of \"\n",
      "\u001b[2m\u001b[36m(pid=1005325)\u001b[0m /home/xzhang/miniconda3/envs/dip/lib/python3.8/site-packages/scipy/__init__.py:138: UserWarning: A NumPy version >=1.16.5 and <1.23.0 is required for this version of SciPy (detected version 1.23.5)\n",
      "\u001b[2m\u001b[36m(pid=1005325)\u001b[0m   warnings.warn(f\"A NumPy version >={np_minversion} and <{np_maxversion} is required for this version of \"\n",
      "\u001b[2m\u001b[36m(pid=1005335)\u001b[0m /home/xzhang/miniconda3/envs/dip/lib/python3.8/site-packages/scipy/__init__.py:138: UserWarning: A NumPy version >=1.16.5 and <1.23.0 is required for this version of SciPy (detected version 1.23.5)\n",
      "\u001b[2m\u001b[36m(pid=1005335)\u001b[0m   warnings.warn(f\"A NumPy version >={np_minversion} and <{np_maxversion} is required for this version of \"\n",
      "\u001b[2m\u001b[36m(pid=1005323)\u001b[0m /home/xzhang/miniconda3/envs/dip/lib/python3.8/site-packages/scipy/__init__.py:138: UserWarning: A NumPy version >=1.16.5 and <1.23.0 is required for this version of SciPy (detected version 1.23.5)\n",
      "\u001b[2m\u001b[36m(pid=1005323)\u001b[0m   warnings.warn(f\"A NumPy version >={np_minversion} and <{np_maxversion} is required for this version of \"\n"
     ]
    },
    {
     "ename": "TuneError",
     "evalue": "('Trials did not complete', [main_8ae67_00000, main_8ae67_00001, main_8ae67_00002, main_8ae67_00003, main_8ae67_00004, main_8ae67_00005, main_8ae67_00006, main_8ae67_00007])",
     "output_type": "error",
     "traceback": [
      "\u001b[0;31m---------------------------------------------------------------------------\u001b[0m",
      "\u001b[0;31mTuneError\u001b[0m                                 Traceback (most recent call last)",
      "Cell \u001b[0;32mIn[5], line 13\u001b[0m\n\u001b[1;32m     10\u001b[0m train_dataset \u001b[39m=\u001b[39m torch\u001b[39m.\u001b[39mutils\u001b[39m.\u001b[39mdata\u001b[39m.\u001b[39mTensorDataset(image_net_input_torch, image_corrupt_torch)\n\u001b[1;32m     11\u001b[0m train_dataloader \u001b[39m=\u001b[39m torch\u001b[39m.\u001b[39mutils\u001b[39m.\u001b[39mdata\u001b[39m.\u001b[39mDataLoader(train_dataset, batch_size\u001b[39m=\u001b[39m\u001b[39m1\u001b[39m) \n\u001b[0;32m---> 13\u001b[0m tune\u001b[39m.\u001b[39;49mrun(partial(main,train_dataloader\u001b[39m=\u001b[39;49mtrain_dataloader,param1\u001b[39m=\u001b[39;49mparam1_scale_im_corrupt,param2\u001b[39m=\u001b[39;49mparam2_scale_im_corrupt,image_corrupt\u001b[39m=\u001b[39;49mimage_corrupt,target\u001b[39m=\u001b[39;49mpath_target), \n\u001b[1;32m     14\u001b[0m          config\u001b[39m=\u001b[39;49mconfig_tune,local_dir \u001b[39m=\u001b[39;49m \u001b[39m'\u001b[39;49m\u001b[39mtest1_logs\u001b[39;49m\u001b[39m'\u001b[39;49m)\n",
      "File \u001b[0;32m~/miniconda3/envs/dip/lib/python3.8/site-packages/ray/tune/tune.py:792\u001b[0m, in \u001b[0;36mrun\u001b[0;34m(run_or_experiment, name, metric, mode, stop, time_budget_s, config, resources_per_trial, num_samples, local_dir, search_alg, scheduler, keep_checkpoints_num, checkpoint_score_attr, checkpoint_freq, checkpoint_at_end, verbose, progress_reporter, log_to_file, trial_name_creator, trial_dirname_creator, chdir_to_trial_dir, sync_config, export_formats, max_failures, fail_fast, restore, server_port, resume, reuse_actors, raise_on_failed_trial, callbacks, max_concurrent_trials, trial_executor, _experiment_checkpoint_dir, _remote, _remote_string_queue)\u001b[0m\n\u001b[1;32m    790\u001b[0m \u001b[39mif\u001b[39;00m incomplete_trials:\n\u001b[1;32m    791\u001b[0m     \u001b[39mif\u001b[39;00m raise_on_failed_trial \u001b[39mand\u001b[39;00m \u001b[39mnot\u001b[39;00m experiment_interrupted_event\u001b[39m.\u001b[39mis_set():\n\u001b[0;32m--> 792\u001b[0m         \u001b[39mraise\u001b[39;00m TuneError(\u001b[39m\"\u001b[39m\u001b[39mTrials did not complete\u001b[39m\u001b[39m\"\u001b[39m, incomplete_trials)\n\u001b[1;32m    793\u001b[0m     \u001b[39melse\u001b[39;00m:\n\u001b[1;32m    794\u001b[0m         logger\u001b[39m.\u001b[39merror(\u001b[39m\"\u001b[39m\u001b[39mTrials did not complete: \u001b[39m\u001b[39m%s\u001b[39;00m\u001b[39m\"\u001b[39m, incomplete_trials)\n",
      "\u001b[0;31mTuneError\u001b[0m: ('Trials did not complete', [main_8ae67_00000, main_8ae67_00001, main_8ae67_00002, main_8ae67_00003, main_8ae67_00004, main_8ae67_00005, main_8ae67_00006, main_8ae67_00007])"
     ]
    }
   ],
   "source": [
    "\n",
    "for path_target in path_target_list:\n",
    "\n",
    "    image_corrupt = np.load(path_target) # 读取图片并将图片转换成numpy array\n",
    "    image_corrupt_input_scaled,param1_scale_im_corrupt,param2_scale_im_corrupt = rescale_imag(image_corrupt,\"standardization\") # 标准化图片, 减去平均值，除以标准差，参数1是mean，参数2是std\n",
    "    image_corrupt_torch = torch.Tensor(image_corrupt_input_scaled)\n",
    "    image_corrupt_torch = image_corrupt_torch.view(1,1,PETImage_shape[0],PETImage_shape[1],PETImage_shape[2])\n",
    "    image_corrupt_torch = image_corrupt_torch[:,:,:,:,0]\n",
    "\n",
    "    # 用dataset和dataloader 读取训练数据 input和目标\n",
    "    train_dataset = torch.utils.data.TensorDataset(image_net_input_torch, image_corrupt_torch)\n",
    "    train_dataloader = torch.utils.data.DataLoader(train_dataset, batch_size=1) \n",
    "\n",
    "    tune.run(partial(main,train_dataloader=train_dataloader,param1=param1_scale_im_corrupt,param2=param2_scale_im_corrupt,image_corrupt=image_corrupt,target=path_target), \n",
    "             config=config_tune,local_dir = 'test1_logs')"
   ]
  },
  {
   "cell_type": "code",
   "execution_count": null,
   "metadata": {},
   "outputs": [],
   "source": [
    "\n",
    "\n"
   ]
  },
  {
   "cell_type": "code",
   "execution_count": null,
   "metadata": {},
   "outputs": [],
   "source": []
  }
 ],
 "metadata": {
  "kernelspec": {
   "display_name": "dip",
   "language": "python",
   "name": "dip"
  },
  "language_info": {
   "codemirror_mode": {
    "name": "ipython",
    "version": 3
   },
   "file_extension": ".py",
   "mimetype": "text/x-python",
   "name": "python",
   "nbconvert_exporter": "python",
   "pygments_lexer": "ipython3",
   "version": "3.8.16"
  },
  "orig_nbformat": 4
 },
 "nbformat": 4,
 "nbformat_minor": 2
}
