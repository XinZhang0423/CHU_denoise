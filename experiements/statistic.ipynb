{
 "cells": [
  {
   "cell_type": "code",
   "execution_count": null,
   "metadata": {},
   "outputs": [],
   "source": [
    "# 该文件用于处理数据并可视化\n",
    "import csv \n",
    "import os\n",
    "import matplotlib.pyplot as plt\n",
    "import pandas as pd\n",
    "import numpy as np\n",
    "import seaborn as sns\n",
    "#加上这句话，图片会嵌入notebook而不是跳出新窗口查看图片\n",
    "%matplotlib inline\n",
    "# 绘制漂亮的图形，避免模糊的图像\n",
    "%config InlineBackend.figure_format = 'retina'\n",
    "# 设置环境\n",
    "sns.set_context('notebook')\n",
    "sns.set(style=\"ticks\", color_codes=True)\n",
    "# 忽略警告\n",
    "import warnings\n",
    "warnings.filterwarnings('ignore')\n",
    "\n",
    "# 启用多个单元输出\n",
    "from IPython.core.interactiveshell import InteractiveShell\n",
    "InteractiveShell.ast_node_interactivity = 'all'"
   ]
  },
  {
   "cell_type": "code",
   "execution_count": null,
   "metadata": {},
   "outputs": [],
   "source": [
    "# 设置好需要处理的文件路径\n",
    "file_path_list = [\"/home/xzhang/Documents/我的模型/data/results/statistics/xavier_norm_psnr.csv\",\n",
    "                  \"/home/xzhang/Documents/我的模型/data/results/statistics/xavier_uniform_psnr.csv\",\n",
    "                  \"/home/xzhang/Documents/我的模型/data/results/statistics/kaiming_norm_psnr.csv\",\n",
    "                  \"/home/xzhang/Documents/我的模型/data/results/statistics/kaiming_uniform_psnr.csv\",\n",
    "                  \"/home/xzhang/Documents/我的模型/data/results/statistics/default_psnr.csv\"\n",
    "                  ]\n",
    "\n",
    "file_path = \"/home/xzhang/Documents/我的模型/data/statistics/xavier_norm.csv\""
   ]
  },
  {
   "cell_type": "code",
   "execution_count": null,
   "metadata": {},
   "outputs": [],
   "source": [
    "\n",
    "# 定义写入csv文件函数，用于训练阶段将数据保存起来\n",
    "def write_csv(my_dict, file_name):\n",
    "    nb_cols = len(list(my_dict.keys()))\n",
    "    nb_rows = len(my_dict[f\"{1}\"])\n",
    "    with open(file_name, 'w', newline='') as csvfile:\n",
    "        writer = csv.writer(csvfile)\n",
    "        # 写入表头\n",
    "        header = ['iters'] + list(range(nb_cols))\n",
    "        writer.writerow(header)        \n",
    "        # 写入数据\n",
    "        for i in range(nb_rows):\n",
    "            row = [i] + [my_dict[f\"{j}\"][i] for j in range(nb_cols)]\n",
    "            writer.writerow(row)\n",
    "            \n"
   ]
  },
  {
   "cell_type": "code",
   "execution_count": null,
   "metadata": {},
   "outputs": [],
   "source": [
    "# 把所有数据都读进来，然后再做整理，我打算把这个表沿着列拼接试一试呗\n",
    "df_list = list()\n",
    "for file in file_path_list:\n",
    "    name = file.split('/')[-1].split('.')[0]\n",
    "    type = name.split('_')[0]\n",
    "    dist = name.split('_')[1]\n",
    "    df = pd.read_csv(file)\n",
    "    df = df.iloc[:,1:]\n",
    "    \n",
    "    type = pd.Series([type]*len(df),name = 'type')\n",
    "    dist = pd.Series([dist]*len(df),name = 'dist')\n",
    "    test = pd.Series(list(range(len(df))),name='test')\n",
    "    df.insert(0,'test',test)\n",
    "    df.insert(1,'type',type)\n",
    "    df.insert(2,'dist',dist)\n",
    "\n",
    "    df_list.append(df) \n",
    "df_brut = pd.concat(df_list,axis=0) \n",
    "df_brut.head()"
   ]
  },
  {
   "cell_type": "code",
   "execution_count": null,
   "metadata": {},
   "outputs": [],
   "source": [
    "# 把测试数据读进来,找到峰值和对应的迭代次数\n",
    "df_list = list()\n",
    "for file in file_path_list:\n",
    "    name = file.split('/')[-1].split('.')[0]\n",
    "    type = name.split('_')[0]\n",
    "    dist = name.split('_')[1]\n",
    "    df = pd.read_csv(file)\n",
    "    df = df.iloc[:,1:]\n",
    "    \n",
    "    max_values = df.max()\n",
    "    max_indexes = df.idxmax()\n",
    "    \n",
    "    df_new = pd.concat([max_values,max_indexes],axis=1).reset_index()\n",
    "    df_new.columns = ['test', 'max_value', 'max_index']\n",
    "    type = pd.Series([type]*len(max_values),name = 'type')\n",
    "    dist = pd.Series([dist]*len(max_indexes),name = 'dist')\n",
    "    df_new.insert(1,'type',type)\n",
    "    df_new.insert(2,'dist',dist)\n",
    "    df_list.append(df_new)   \n",
    "df = pd.concat(df_list,axis=0)\n",
    "df.tail()\n",
    "df.head()\n",
    "df.describe()"
   ]
  },
  {
   "cell_type": "code",
   "execution_count": null,
   "metadata": {},
   "outputs": [],
   "source": [
    "choices = ['box','boxen','violin']\n",
    "for choice in choices:\n",
    "    ax = sns.catplot(x='dist',y='max_value',col='type',data=df,kind=choice)\n",
    "    plt.suptitle('PSNR peak')\n",
    "    ax = sns.catplot(x='dist',y='max_index',col='type',kind=choice,data=df);\n",
    "    plt.suptitle('iterations for PSNR peak')\n"
   ]
  },
  {
   "cell_type": "code",
   "execution_count": null,
   "metadata": {},
   "outputs": [],
   "source": [
    "file_path_list = [\"/home/xzhang/Documents/我的模型/data/results/statistics/xavier_uniform_mse_gt.csv\",\n",
    "                  \"/home/xzhang/Documents/我的模型/data/results/statistics/xavier_norm_mse_gt.csv\",\n",
    "                  \"/home/xzhang/Documents/我的模型/data/results/statistics/kaiming_uniform_mse_gt.csv\",\n",
    "                  \"/home/xzhang/Documents/我的模型/data/results/statistics/kaiming_norm_mse_gt.csv\",\n",
    "                  \"/home/xzhang/Documents/我的模型/data/results/statistics/default_mse_gt.csv\",\n",
    "                  \n",
    "                  ]"
   ]
  },
  {
   "cell_type": "code",
   "execution_count": null,
   "metadata": {},
   "outputs": [],
   "source": [
    "# 把所有数据都读进来，然后再做整理，我打算把这个表沿着列拼接试一试呗\n",
    "df_list = list()\n",
    "for file in file_path_list:\n",
    "    name = file.split('/')[-1].split('.')[0]\n",
    "    type = name.split('_')[0]\n",
    "    dist = name.split('_')[1]\n",
    "    df = pd.read_csv(file)\n",
    "    df = df.iloc[:,1:]\n",
    "    \n",
    "    type = pd.Series([type]*len(df),name = 'type')\n",
    "    dist = pd.Series([dist]*len(df),name = 'dist')\n",
    "    test = pd.Series(list(range(len(df))),name='test')\n",
    "    df.insert(0,'test',test)\n",
    "    df.insert(1,'type',type)\n",
    "    df.insert(2,'dist',dist)\n",
    "\n",
    "    df_list.append(df) \n",
    "df_brut = pd.concat(df_list,axis=0) \n",
    "df_brut.head()"
   ]
  },
  {
   "cell_type": "code",
   "execution_count": null,
   "metadata": {},
   "outputs": [],
   "source": [
    "# 把测试数据读进来,找到峰值和对应的迭代次数\n",
    "df_list = list()\n",
    "for file in file_path_list:\n",
    "    name = file.split('/')[-1].split('.')[0]\n",
    "    type = name.split('_')[0]\n",
    "    dist = name.split('_')[1]\n",
    "    df = pd.read_csv(file)\n",
    "    df = df.iloc[:,1:]\n",
    "    \n",
    "    min_values = df.min()\n",
    "    min_indexes = df.idxmin()\n",
    "    \n",
    "    df_new = pd.concat([min_values,min_indexes],axis=1).reset_index()\n",
    "    df_new.columns = ['test', 'min_value', 'min_index']\n",
    "    type = pd.Series([type]*len(min_values),name = 'type')\n",
    "    dist = pd.Series([dist]*len(min_indexes),name = 'dist')\n",
    "    df_new.insert(1,'type',type)\n",
    "    df_new.insert(2,'dist',dist)\n",
    "    df_list.append(df_new)   \n",
    "df = pd.concat(df_list,axis=0)\n",
    "df.tail()\n",
    "df.head()\n",
    "df.describe()"
   ]
  },
  {
   "cell_type": "code",
   "execution_count": null,
   "metadata": {},
   "outputs": [],
   "source": [
    "choices = ['box','boxen','violin']\n",
    "for choice in choices:\n",
    "    ax = sns.catplot(x='dist',y='min_value',col='type',data=df,kind=choice)\n",
    "    plt.suptitle('min mse')\n",
    "    ax = sns.catplot(x='dist',y='min_index',col='type',kind=choice,data=df);\n",
    "    plt.suptitle('iterations for min mse')"
   ]
  },
  {
   "cell_type": "code",
   "execution_count": 1,
   "metadata": {},
   "outputs": [
    {
     "ename": "NameError",
     "evalue": "name 'sns' is not defined",
     "output_type": "error",
     "traceback": [
      "\u001b[0;31m---------------------------------------------------------------------------\u001b[0m",
      "\u001b[0;31mNameError\u001b[0m                                 Traceback (most recent call last)",
      "Cell \u001b[0;32mIn[1], line 1\u001b[0m\n\u001b[0;32m----> 1\u001b[0m ax \u001b[39m=\u001b[39m sns\u001b[39m.\u001b[39mboxplot(x\u001b[39m=\u001b[39m\u001b[39m'\u001b[39m\u001b[39mtype\u001b[39m\u001b[39m'\u001b[39m,y\u001b[39m=\u001b[39m\u001b[39m'\u001b[39m\u001b[39mmax_value\u001b[39m\u001b[39m'\u001b[39m,hue\u001b[39m=\u001b[39m\u001b[39m'\u001b[39m\u001b[39mdist\u001b[39m\u001b[39m'\u001b[39m,data\u001b[39m=\u001b[39mdf);\n\u001b[1;32m      3\u001b[0m medians \u001b[39m=\u001b[39m df\u001b[39m.\u001b[39mgroupby([\u001b[39m'\u001b[39m\u001b[39mtype\u001b[39m\u001b[39m'\u001b[39m,\u001b[39m'\u001b[39m\u001b[39mdist\u001b[39m\u001b[39m'\u001b[39m])[\u001b[39m'\u001b[39m\u001b[39mmax_value\u001b[39m\u001b[39m'\u001b[39m]\u001b[39m.\u001b[39mmedian()\u001b[39m.\u001b[39mvalues\n\u001b[1;32m      4\u001b[0m \u001b[39m# print(medians)\u001b[39;00m\n\u001b[1;32m      5\u001b[0m \u001b[39m# 统计各个种类的样本数\u001b[39;00m\n",
      "\u001b[0;31mNameError\u001b[0m: name 'sns' is not defined"
     ]
    }
   ],
   "source": [
    "\n",
    "ax = sns.boxplot(x='type',y='max_value',hue='dist',data=df);\n",
    "\n",
    "medians = df.groupby(['type','dist'])['max_value'].median().values\n",
    "# print(medians)\n",
    "# 统计各个种类的样本数\n",
    "nobs = df[['type','dist']].value_counts().values\n",
    "nobs = [str(x) for x in nobs.tolist()]\n",
    "nobs = [\"n: \" + i for i in nobs]\n",
    "# print(nobs)\n",
    "# 在中位数上放标签\n",
    "pos = range(len(nobs))\n",
    "for tick,label in zip(pos,ax.get_xticklabels()):\n",
    "    ax.text(pos[tick]-0.2, medians[tick] + 0.03, nobs[tick], horizontalalignment='center', size='x-small', color='w', weight='semibold')\n",
    "    ax.text(pos[tick]+0.2, medians[tick] + 0.03, nobs[tick], horizontalalignment='center', size='x-small', color='w', weight='semibold')"
   ]
  },
  {
   "cell_type": "code",
   "execution_count": null,
   "metadata": {},
   "outputs": [],
   "source": [
    "print(df_brut.columns)"
   ]
  },
  {
   "cell_type": "code",
   "execution_count": null,
   "metadata": {},
   "outputs": [],
   "source": [
    "choices = ['scatter','line']\n",
    "for choice in choices:\n",
    "    ax = sns.relplot(x='test',y=[str(x) for x in list(range(100))],hue='dist',col='type',kind=choice,data=df_brut);\n",
    "\n",
    "\n"
   ]
  },
  {
   "cell_type": "code",
   "execution_count": null,
   "metadata": {},
   "outputs": [],
   "source": []
  }
 ],
 "metadata": {
  "kernelspec": {
   "display_name": "dip",
   "language": "python",
   "name": "python3"
  },
  "language_info": {
   "codemirror_mode": {
    "name": "ipython",
    "version": 3
   },
   "file_extension": ".py",
   "mimetype": "text/x-python",
   "name": "python",
   "nbconvert_exporter": "python",
   "pygments_lexer": "ipython3",
   "version": "3.8.16"
  },
  "orig_nbformat": 4
 },
 "nbformat": 4,
 "nbformat_minor": 2
}
