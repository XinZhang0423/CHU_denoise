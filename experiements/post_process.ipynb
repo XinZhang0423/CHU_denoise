{
 "cells": [
  {
   "cell_type": "code",
   "execution_count": 1,
   "metadata": {},
   "outputs": [
    {
     "name": "stdout",
     "output_type": "stream",
     "text": [
      "/home/xzhang/Documents/我的模型/experiments\n",
      "/home/xzhang/Documents/我的模型\n"
     ]
    }
   ],
   "source": [
    "# 数据处理部分\n",
    "# 我要跑很多次实验，然后把实验数据保存到csv文件中\n",
    "# 我写的这个文件专门用于处理csv数据，包括文件的读取和画各种数据图\n",
    "\n",
    "import os\n",
    "current_path = os.getcwd()\n",
    "print(current_path)\n",
    "os.chdir(\"..\")\n",
    "current_path = os.getcwd()\n",
    "print(current_path)\n"
   ]
  },
  {
   "cell_type": "code",
   "execution_count": 2,
   "metadata": {},
   "outputs": [],
   "source": [
    "import pandas as pd\n",
    "df = pd.read_csv('my_file.csv')\n",
    "df.head()\n",
    "max_values = df.iloc[:,1:].max(axis=0)\n",
    "max_indexes = df.iloc[:,1:].idxmax(axis=0)"
   ]
  },
  {
   "cell_type": "code",
   "execution_count": 3,
   "metadata": {},
   "outputs": [
    {
     "data": {
      "text/plain": [
       "0     3111\n",
       "1     3584\n",
       "2      281\n",
       "3     2764\n",
       "4     4762\n",
       "      ... \n",
       "95    3744\n",
       "96    4176\n",
       "97     278\n",
       "98    3930\n",
       "99    4362\n",
       "Length: 100, dtype: int64"
      ]
     },
     "execution_count": 3,
     "metadata": {},
     "output_type": "execute_result"
    }
   ],
   "source": [
    "max_indexes"
   ]
  },
  {
   "cell_type": "code",
   "execution_count": 4,
   "metadata": {},
   "outputs": [
    {
     "name": "stderr",
     "output_type": "stream",
     "text": [
      "/home/xzhang/miniconda3/envs/dip/lib/python3.8/site-packages/matplotlib/backends/backend_agg.py:238: RuntimeWarning: Glyph 27599 missing from current font.\n",
      "  font.set_text(s, 0.0, flags=flags)\n",
      "/home/xzhang/miniconda3/envs/dip/lib/python3.8/site-packages/matplotlib/backends/backend_agg.py:238: RuntimeWarning: Glyph 21015 missing from current font.\n",
      "  font.set_text(s, 0.0, flags=flags)\n",
      "/home/xzhang/miniconda3/envs/dip/lib/python3.8/site-packages/matplotlib/backends/backend_agg.py:238: RuntimeWarning: Glyph 30340 missing from current font.\n",
      "  font.set_text(s, 0.0, flags=flags)\n",
      "/home/xzhang/miniconda3/envs/dip/lib/python3.8/site-packages/matplotlib/backends/backend_agg.py:238: RuntimeWarning: Glyph 26368 missing from current font.\n",
      "  font.set_text(s, 0.0, flags=flags)\n",
      "/home/xzhang/miniconda3/envs/dip/lib/python3.8/site-packages/matplotlib/backends/backend_agg.py:238: RuntimeWarning: Glyph 22823 missing from current font.\n",
      "  font.set_text(s, 0.0, flags=flags)\n",
      "/home/xzhang/miniconda3/envs/dip/lib/python3.8/site-packages/matplotlib/backends/backend_agg.py:238: RuntimeWarning: Glyph 20540 missing from current font.\n",
      "  font.set_text(s, 0.0, flags=flags)\n",
      "/home/xzhang/miniconda3/envs/dip/lib/python3.8/site-packages/matplotlib/backends/backend_agg.py:238: RuntimeWarning: Glyph 20998 missing from current font.\n",
      "  font.set_text(s, 0.0, flags=flags)\n",
      "/home/xzhang/miniconda3/envs/dip/lib/python3.8/site-packages/matplotlib/backends/backend_agg.py:238: RuntimeWarning: Glyph 24067 missing from current font.\n",
      "  font.set_text(s, 0.0, flags=flags)\n",
      "/home/xzhang/miniconda3/envs/dip/lib/python3.8/site-packages/matplotlib/backends/backend_agg.py:238: RuntimeWarning: Glyph 25152 missing from current font.\n",
      "  font.set_text(s, 0.0, flags=flags)\n",
      "/home/xzhang/miniconda3/envs/dip/lib/python3.8/site-packages/matplotlib/backends/backend_agg.py:238: RuntimeWarning: Glyph 22312 missing from current font.\n",
      "  font.set_text(s, 0.0, flags=flags)\n",
      "/home/xzhang/miniconda3/envs/dip/lib/python3.8/site-packages/matplotlib/backends/backend_agg.py:238: RuntimeWarning: Glyph 34892 missing from current font.\n",
      "  font.set_text(s, 0.0, flags=flags)\n",
      "/home/xzhang/miniconda3/envs/dip/lib/python3.8/site-packages/matplotlib/backends/backend_agg.py:238: RuntimeWarning: Glyph 25968 missing from current font.\n",
      "  font.set_text(s, 0.0, flags=flags)\n",
      "/home/xzhang/miniconda3/envs/dip/lib/python3.8/site-packages/matplotlib/backends/backend_agg.py:201: RuntimeWarning: Glyph 27599 missing from current font.\n",
      "  font.set_text(s, 0, flags=flags)\n",
      "/home/xzhang/miniconda3/envs/dip/lib/python3.8/site-packages/matplotlib/backends/backend_agg.py:201: RuntimeWarning: Glyph 21015 missing from current font.\n",
      "  font.set_text(s, 0, flags=flags)\n",
      "/home/xzhang/miniconda3/envs/dip/lib/python3.8/site-packages/matplotlib/backends/backend_agg.py:201: RuntimeWarning: Glyph 30340 missing from current font.\n",
      "  font.set_text(s, 0, flags=flags)\n",
      "/home/xzhang/miniconda3/envs/dip/lib/python3.8/site-packages/matplotlib/backends/backend_agg.py:201: RuntimeWarning: Glyph 26368 missing from current font.\n",
      "  font.set_text(s, 0, flags=flags)\n",
      "/home/xzhang/miniconda3/envs/dip/lib/python3.8/site-packages/matplotlib/backends/backend_agg.py:201: RuntimeWarning: Glyph 22823 missing from current font.\n",
      "  font.set_text(s, 0, flags=flags)\n",
      "/home/xzhang/miniconda3/envs/dip/lib/python3.8/site-packages/matplotlib/backends/backend_agg.py:201: RuntimeWarning: Glyph 20540 missing from current font.\n",
      "  font.set_text(s, 0, flags=flags)\n",
      "/home/xzhang/miniconda3/envs/dip/lib/python3.8/site-packages/matplotlib/backends/backend_agg.py:201: RuntimeWarning: Glyph 20998 missing from current font.\n",
      "  font.set_text(s, 0, flags=flags)\n",
      "/home/xzhang/miniconda3/envs/dip/lib/python3.8/site-packages/matplotlib/backends/backend_agg.py:201: RuntimeWarning: Glyph 24067 missing from current font.\n",
      "  font.set_text(s, 0, flags=flags)\n",
      "/home/xzhang/miniconda3/envs/dip/lib/python3.8/site-packages/matplotlib/backends/backend_agg.py:201: RuntimeWarning: Glyph 25152 missing from current font.\n",
      "  font.set_text(s, 0, flags=flags)\n",
      "/home/xzhang/miniconda3/envs/dip/lib/python3.8/site-packages/matplotlib/backends/backend_agg.py:201: RuntimeWarning: Glyph 22312 missing from current font.\n",
      "  font.set_text(s, 0, flags=flags)\n",
      "/home/xzhang/miniconda3/envs/dip/lib/python3.8/site-packages/matplotlib/backends/backend_agg.py:201: RuntimeWarning: Glyph 34892 missing from current font.\n",
      "  font.set_text(s, 0, flags=flags)\n",
      "/home/xzhang/miniconda3/envs/dip/lib/python3.8/site-packages/matplotlib/backends/backend_agg.py:201: RuntimeWarning: Glyph 25968 missing from current font.\n",
      "  font.set_text(s, 0, flags=flags)\n"
     ]
    },
    {
     "data": {
      "image/png": "[encoded data removed]",
      "text/plain": [
       "<Figure size 800x600 with 2 Axes>"
      ]
     },
     "metadata": {},
     "output_type": "display_data"
    }
   ],
   "source": [
    "import matplotlib.pyplot as plt\n",
    "# 绘制 Box Plot\n",
    "fig, ax = plt.subplots(nrows=2, ncols=1, figsize=(8, 6))\n",
    "\n",
    "ax[0].boxplot(max_values)\n",
    "ax[0].set_title('每列的最大值分布')\n",
    "\n",
    "ax[1].boxplot(max_indexes)\n",
    "ax[1].set_title('每列最大值所在的行数分布')\n",
    "\n",
    "# 显示图形;\n",
    "plt.show();"
   ]
  },
  {
   "cell_type": "code",
   "execution_count": null,
   "metadata": {},
   "outputs": [],
   "source": []
  }
 ],
 "metadata": {
  "kernelspec": {
   "display_name": "dip",
   "language": "python",
   "name": "python3"
  },
  "language_info": {
   "codemirror_mode": {
    "name": "ipython",
    "version": 3
   },
   "file_extension": ".py",
   "mimetype": "text/x-python",
   "name": "python",
   "nbconvert_exporter": "python",
   "pygments_lexer": "ipython3",
   "version": "3.8.16"
  },
  "orig_nbformat": 4
 },
 "nbformat": 4,
 "nbformat_minor": 2
}
