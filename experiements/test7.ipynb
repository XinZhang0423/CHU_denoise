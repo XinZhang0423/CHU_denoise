{
 "cells": [
  {
   "cell_type": "code",
   "execution_count": 1,
   "metadata": {},
   "outputs": [
    {
     "name": "stderr",
     "output_type": "stream",
     "text": [
      "/home/xzhang/miniconda3/envs/dip/lib/python3.8/site-packages/tqdm/auto.py:21: TqdmWarning: IProgress not found. Please update jupyter and ipywidgets. See https://ipywidgets.readthedocs.io/en/stable/user_install.html\n",
      "  from .autonotebook import tqdm as notebook_tqdm\n",
      "/home/xzhang/miniconda3/envs/dip/lib/python3.8/site-packages/scipy/__init__.py:138: UserWarning: A NumPy version >=1.16.5 and <1.23.0 is required for this version of SciPy (detected version 1.23.5)\n",
      "  warnings.warn(f\"A NumPy version >={np_minversion} and <{np_maxversion} is required for this version of \"\n"
     ]
    }
   ],
   "source": [
    "# 一切需要跑100次的,输入不同\n",
    "from test import main_input,main_target\n",
    "from ray import tune\n",
    "from functools import partial\n",
    "from config.config_input import config_input\n",
    "from config.config_target import config_target"
   ]
  },
  {
   "cell_type": "code",
   "execution_count": null,
   "metadata": {},
   "outputs": [],
   "source": [
    "tune.run(partial(main_input,path_input=\"/home/xzhang/Documents/我的模型/data/noisy_images/uniform_noise1.npy\",\n",
    "                 path_ground_truth=\"/home/xzhang/Documents/我的模型/data/ground_truth/ground_truth.npy\",\n",
    "                 path_target=\"/home/xzhang/Documents/我的模型/data/corrupted_images/BSREM_it30.npy\",\n",
    "                 log_dir='/logs/test13_logs',\n",
    "                 suffix='test13',\n",
    "                 init_weights = False),\n",
    "                 config=config_input,local_dir = './logs/test13_logs')\n"
   ]
  },
  {
   "cell_type": "code",
   "execution_count": null,
   "metadata": {},
   "outputs": [],
   "source": [
    "tune.run(partial(main_target,path_input=\"/home/xzhang/Documents/我的模型/data/noisy_images/uniform_noise1.npy\",\n",
    "                 path_ground_truth=\"/home/xzhang/Documents/我的模型/data/ground_truth/ground_truth.npy\",\n",
    "                 path_target=\"/home/xzhang/Documents/我的模型/data/corrupted_images/BSREM_it30.npy\",\n",
    "                 log_dir='/logs/test10_logs',\n",
    "                 suffix='test10',\n",
    "                 init_weights = False),\n",
    "                 config=config_target,local_dir = './logs/test10_logs')"
   ]
  },
  {
   "cell_type": "code",
   "execution_count": null,
   "metadata": {},
   "outputs": [],
   "source": []
  }
 ],
 "metadata": {
  "kernelspec": {
   "display_name": "dip",
   "language": "python",
   "name": "python3"
  },
  "language_info": {
   "codemirror_mode": {
    "name": "ipython",
    "version": 3
   },
   "file_extension": ".py",
   "mimetype": "text/x-python",
   "name": "python",
   "nbconvert_exporter": "python",
   "pygments_lexer": "ipython3",
   "version": "3.8.16"
  },
  "orig_nbformat": 4
 },
 "nbformat": 4,
 "nbformat_minor": 2
}
