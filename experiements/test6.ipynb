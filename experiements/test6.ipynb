{
 "cells": [
  {
   "cell_type": "code",
   "execution_count": 1,
   "metadata": {},
   "outputs": [
    {
     "name": "stderr",
     "output_type": "stream",
     "text": [
      "/home/xzhang/miniconda3/envs/dip/lib/python3.8/site-packages/tqdm/auto.py:21: TqdmWarning: IProgress not found. Please update jupyter and ipywidgets. See https://ipywidgets.readthedocs.io/en/stable/user_install.html\n",
      "  from .autonotebook import tqdm as notebook_tqdm\n",
      "/home/xzhang/miniconda3/envs/dip/lib/python3.8/site-packages/scipy/__init__.py:138: UserWarning: A NumPy version >=1.16.5 and <1.23.0 is required for this version of SciPy (detected version 1.23.5)\n",
      "  warnings.warn(f\"A NumPy version >={np_minversion} and <{np_maxversion} is required for this version of \"\n"
     ]
    }
   ],
   "source": [
    "# 一切需要跑100次的都用tune.run 来测试一次\n",
    "from test import main_es\n",
    "from ray import tune\n",
    "# from config.config_tune import config_tune\n",
    "from config.config_es import config\n",
    "from functools import partial"
   ]
  },
  {
   "cell_type": "code",
   "execution_count": null,
   "metadata": {},
   "outputs": [],
   "source": [
    "tune.run(partial(main,path_input=\"/home/xzhang/Documents/我的模型/data/noisy_images/uniform_noise1.npy\",\n",
    "                 path_ground_truth=\"/home/xzhang/Documents/我的模型/data/ground_truth/ground_truth.npy\",\n",
    "                 path_target=\"/home/xzhang/Documents/我的模型/data/corrupted_images/BSREM_it30.npy\",\n",
    "                 log_dir='/logs/test11_logs',\n",
    "                 suffix='test11',\n",
    "                 init_weights = True),\n",
    "                 config=config_tune,local_dir = './logs/test11_logs')\n"
   ]
  },
  {
   "cell_type": "code",
   "execution_count": 3,
   "metadata": {},
   "outputs": [
    {
     "name": "stderr",
     "output_type": "stream",
     "text": [
      "GPU available: True, used: False\n",
      "TPU available: False, using: 0 TPU cores\n",
      "IPU available: False, using: 0 IPUs\n",
      "/home/xzhang/miniconda3/envs/dip/lib/python3.8/site-packages/pytorch_lightning/trainer/trainer.py:1292: UserWarning: GPU available but not used. Set the gpus flag in your trainer `Trainer(gpus=1)` or script `--gpus=1`.\n",
      "  rank_zero_warn(\n",
      "\n",
      "   | Name       | Type       | Params\n",
      "-------------------------------------------\n",
      "0  | deep1      | Sequential | 2.5 K \n",
      "1  | down1      | Sequential | 2.4 K \n",
      "2  | deep2      | Sequential | 14.0 K\n",
      "3  | down2      | Sequential | 9.3 K \n",
      "4  | deep3      | Sequential | 55.7 K\n",
      "5  | down3      | Sequential | 37.1 K\n",
      "6  | deep4      | Sequential | 221 K \n",
      "7  | up1        | Sequential | 73.9 K\n",
      "8  | deep5      | Sequential | 74.1 K\n",
      "9  | up2        | Sequential | 18.5 K\n",
      "10 | deep6      | Sequential | 18.6 K\n",
      "11 | up3        | Sequential | 4.7 K \n",
      "12 | deep7      | Sequential | 2.5 K \n",
      "13 | positivity | ReLU       | 0     \n",
      "-------------------------------------------\n",
      "535 K     Trainable params\n",
      "0         Non-trainable params\n",
      "535 K     Total params\n",
      "2.141     Total estimated model params size (MB)\n",
      "/home/xzhang/miniconda3/envs/dip/lib/python3.8/site-packages/pytorch_lightning/trainer/data_loading.py:105: UserWarning: The dataloader, train dataloader, does not have many workers which may be a bottleneck. Consider increasing the value of the `num_workers` argument` (try 64 which is the number of cpus on this machine) in the `DataLoader` init to improve performance.\n",
      "  rank_zero_warn(\n"
     ]
    },
    {
     "name": "stdout",
     "output_type": "stream",
     "text": [
      "/home/xzhang/Documents/我的模型/experiments\n",
      "current working directory switched to /home/xzhang/Documents/我的模型\n",
      "Number of params: 535251\n",
      "Epoch 10:   0%|          | 0/1 [00:00<00:00, 747.25it/s, loss=0.0835, v_num=0] #### WMV ########################################################\n",
      "                 ES point found, epoch* = 8\n",
      "#################################################################\n",
      "Epoch 11:   0%|          | 0/1 [00:00<00:00, 764.27it/s, loss=0.0764, v_num=0]  #### WMV ########################################################\n",
      "                 ES point found, epoch* = 8\n",
      "#################################################################\n",
      "SUCCESS WMVVVVVVVVVVVVVVVVVV\n",
      "Epoch 11: 100%|██████████| 1/1 [00:00<00:00, 15.32it/s, loss=0.0704, v_num=0] \n"
     ]
    }
   ],
   "source": [
    "main_es(path_input=\"/home/xzhang/Documents/我的模型/data/noisy_images/uniform_noise1.npy\",\n",
    "                 path_ground_truth=\"/home/xzhang/Documents/我的模型/data/ground_truth/ground_truth.npy\",\n",
    "                 path_target=\"/home/xzhang/Documents/我的模型/data/corrupted_images/BSREM_it30.npy\",\n",
    "                 log_dir='/logs/test11_logs',\n",
    "                 suffix='test11',\n",
    "                 init_weights = False,config=config)\n"
   ]
  },
  {
   "cell_type": "code",
   "execution_count": null,
   "metadata": {},
   "outputs": [],
   "source": []
  }
 ],
 "metadata": {
  "kernelspec": {
   "display_name": "dip",
   "language": "python",
   "name": "python3"
  },
  "language_info": {
   "codemirror_mode": {
    "name": "ipython",
    "version": 3
   },
   "file_extension": ".py",
   "mimetype": "text/x-python",
   "name": "python",
   "nbconvert_exporter": "python",
   "pygments_lexer": "ipython3",
   "version": "3.8.16"
  },
  "orig_nbformat": 4
 },
 "nbformat": 4,
 "nbformat_minor": 2
}
