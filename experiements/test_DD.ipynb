{
 "cells": [
  {
   "cell_type": "code",
   "execution_count": 1,
   "metadata": {},
   "outputs": [
    {
     "name": "stderr",
     "output_type": "stream",
     "text": [
      "/home/xzhang/miniconda3/envs/dip/lib/python3.8/site-packages/tqdm/auto.py:21: TqdmWarning: IProgress not found. Please update jupyter and ipywidgets. See https://ipywidgets.readthedocs.io/en/stable/user_install.html\n",
      "  from .autonotebook import tqdm as notebook_tqdm\n",
      "/home/xzhang/miniconda3/envs/dip/lib/python3.8/site-packages/scipy/__init__.py:138: UserWarning: A NumPy version >=1.16.5 and <1.23.0 is required for this version of SciPy (detected version 1.23.5)\n",
      "  warnings.warn(f\"A NumPy version >={np_minversion} and <{np_maxversion} is required for this version of \"\n"
     ]
    }
   ],
   "source": [
    "from test import main_dd_grid_search,main_dip_decoder,main_encoder_decoder\n",
    "from ray import tune\n",
    "from functools import partial\n",
    "from config.config_DD import config_DD\n",
    "from config.config_dip_decoder import config_dip_decoder"
   ]
  },
  {
   "cell_type": "code",
   "execution_count": null,
   "metadata": {},
   "outputs": [],
   "source": [
    "tune.run(partial(main_dd_grid_search,\n",
    "         path_ground_truth=\"data/ground_truth/ground_truth_padded.npy\",\n",
    "         path_target=\"data/corrupted_images/target_padded.npy\",\n",
    "         log_dir = '/logs/model_compare/dd',\n",
    "         suffix ='model_compare/dd'),config =config_DD,local_dir = './logs/model_compare/dd')"
   ]
  },
  {
   "cell_type": "code",
   "execution_count": null,
   "metadata": {},
   "outputs": [],
   "source": [
    "tune.run(partial(main_dip_decoder,\n",
    "         path_ground_truth=\"data/ground_truth/ground_truth_padded.npy\",\n",
    "         path_target=\"data/corrupted_images/target_padded.npy\",\n",
    "         log_dir = '/logs/model_compare/dip',\n",
    "         suffix ='model_compare/dip'),config =config_dip_decoder,local_dir = './logs/model_compare/dip')"
   ]
  },
  {
   "attachments": {},
   "cell_type": "markdown",
   "metadata": {},
   "source": [
    "# 比较DIP encoder-decoder without skip connections 和 DIP decoder \n",
    "# 同样都是3 layers 128 channels，同时我还保存了刚好经过了encoder之后的图片"
   ]
  },
  {
   "cell_type": "code",
   "execution_count": null,
   "metadata": {},
   "outputs": [],
   "source": [
    "# no encoder\n",
    "tune.run(partial(main_dip_decoder,\n",
    "         path_ground_truth=\"data/ground_truth/ground_truth_padded.npy\",\n",
    "         path_target=\"data/corrupted_images/target_padded.npy\",\n",
    "         log_dir = '/logs/encoder/no_encoder',\n",
    "         suffix ='encoder/no_encoder'),config =config_dip_decoder,local_dir = './logs/encoder/no_encoder')"
   ]
  },
  {
   "cell_type": "code",
   "execution_count": 2,
   "metadata": {},
   "outputs": [
    {
     "name": "stderr",
     "output_type": "stream",
     "text": [
      "2023-06-05 11:27:27,510\tINFO worker.py:1553 -- Started a local Ray instance.\n"
     ]
    },
    {
     "data": {
      "text/html": [],
      "text/plain": [
       "<IPython.core.display.HTML object>"
      ]
     },
     "metadata": {},
     "output_type": "display_data"
    }
   ],
   "source": [
    "# with encoder\n",
    "tune.run(partial(main_encoder_decoder,\n",
    "         path_ground_truth=\"data/ground_truth/ground_truth_padded.npy\",\n",
    "         path_target=\"data/corrupted_images/target_padded.npy\",\n",
    "         log_dir = '/logs/encoder/encoder',\n",
    "         suffix ='encoder/encoder'),config =config_dip_decoder,local_dir = './logs/encoder/encoder')"
   ]
  },
  {
   "cell_type": "code",
   "execution_count": null,
   "metadata": {},
   "outputs": [],
   "source": []
  }
 ],
 "metadata": {
  "kernelspec": {
   "display_name": "dip",
   "language": "python",
   "name": "python3"
  },
  "language_info": {
   "codemirror_mode": {
    "name": "ipython",
    "version": 3
   },
   "file_extension": ".py",
   "mimetype": "text/x-python",
   "name": "python",
   "nbconvert_exporter": "python",
   "pygments_lexer": "ipython3",
   "version": "3.8.16"
  },
  "orig_nbformat": 4
 },
 "nbformat": 4,
 "nbformat_minor": 2
}
