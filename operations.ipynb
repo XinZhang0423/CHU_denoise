{
 "cells": [
  {
   "cell_type": "code",
   "execution_count": 1,
   "metadata": {},
   "outputs": [
    {
     "name": "stdout",
     "output_type": "stream",
     "text": [
      "False\n"
     ]
    },
    {
     "name": "stderr",
     "output_type": "stream",
     "text": [
      "/home/xzhang/miniconda3/envs/dip/lib/python3.8/site-packages/tqdm/auto.py:21: TqdmWarning: IProgress not found. Please update jupyter and ipywidgets. See https://ipywidgets.readthedocs.io/en/stable/user_install.html\n",
      "  from .autonotebook import tqdm as notebook_tqdm\n"
     ]
    }
   ],
   "source": [
    "# test cuda\n",
    "import torch\n",
    "print(torch.cuda.is_available())"
   ]
  },
  {
   "cell_type": "code",
   "execution_count": 2,
   "metadata": {},
   "outputs": [],
   "source": [
    "import os\n",
    "import numpy as np\n",
    "from utils.pre_utils import *\n",
    "from config import *\n",
    "\n",
    "\n",
    "npy = fijii_np(\"/home/xzhang/Documents/我的模型/output/image4_0.raw\",PETImage_shape)\n",
    "\n",
    "np.save('ground_truth.npy',npy)"
   ]
  },
  {
   "cell_type": "code",
   "execution_count": null,
   "metadata": {},
   "outputs": [],
   "source": [
    "import os\n",
    "from tensorboard.backend.event_processing import event_accumulator\n",
    "import numpy as np\n",
    "import pandas as pd\n",
    "\n",
    "def readEvent(event_path):\n",
    "    '''返回tensorboard生成的event文件中所有的scalar的值和名字\n",
    "            event_path:event文件路径\n",
    "    '''\n",
    "    event = event_accumulator.EventAccumulator(event_path)\n",
    "    event.Reload()\n",
    "    print(\"\\033[1;34m数据标签：\\033[0m\")\n",
    "    print(event.Tags())\n",
    "    print(\"\\033[1;34m标量数据关键词：\\033[0m\")\n",
    "    # print(event.scalars.Keys())\n",
    "    scalar_name = []\n",
    "    scalar_data = []\n",
    "    for name in event.scalars.Keys():\n",
    "        print(name)\n",
    "        if 'hp_metric' not in name:\n",
    "            scalar_name.append(name)\n",
    "            # event.scalars.Items(name)返回的是list,每个元素为ScalarEvent,有wall_time,step(即我们add_scalar时的step)，value（该scalar在step时的值）\n",
    "            scalar_data.append(event.scalars.Items(name))\n",
    "    return scalar_name, scalar_data\n",
    "def exportToexcel(file_name, excelName):\n",
    "    '''\n",
    "        将不同的标量数据导入到同一个excel中，放置在不同的sheet下\n",
    "            注：excel中sheet名称的命名不能有：/\\?*这些符号\n",
    "    '''\n",
    "    writer = pd.ExcelWriter(excelName)\n",
    "    for i in range(len(file_name)):\n",
    "        event_path = file_name[i]\n",
    "        scalar_name, scalar_data = readEvent(event_path)\n",
    "        for i in np.arange(len(scalar_name)):\n",
    "            scalarValue = scalar_data[i]\n",
    "            scalarName = scalar_name[i]\n",
    "            if \"/\" in scalarName:\n",
    "                temp_names = scalar_name[i].split(\"/\")\n",
    "                temp_paths = os.path.split(event_path)\n",
    "                scalarName = os.path.split(temp_paths[0])[1]\n",
    "            data = pd.DataFrame(scalarValue)\n",
    "            data.to_excel(writer, sheet_name=scalarName)\n",
    "    writer.save()\n",
    "    print(\"数据保存成功\")\n",
    "def excel_to_array(excel_path, save_dir=None):\n",
    "    '''\n",
    "    保存excel所有表格中的数据到.mat\n",
    "    Args:\n",
    "        excel_path: excel表格路径\n",
    "        save_dir: 保存.mat文件路径\n",
    "    Returns: 容纳所有表格数据的字典\n",
    "    '''\n",
    "    # 将None传递给read_excel函数，返回的是一个key为表名的字典\n",
    "    f = pd.read_excel(excel_path, sheet_name=None)\n",
    "    data_dict = dict()\n",
    "    for key in f.keys():\n",
    "        sheet = f[key]\n",
    "        sheet = sheet.head(n=-1)\n",
    "        value = sheet.values\n",
    "        # 只保留最后两列,一列是step,另一列是值\n",
    "        data_dict[key] = value[:, 2:4]\n",
    "        # print(value)\n",
    "    if save_dir is not None:\n",
    "        save_dict_as_mat(data_dict, save_dir)\n",
    "    return data_dict\n",
    "\n",
    "def save_dict_as_mat(dict, save_dir):\n",
    "    scio.savemat(save_dir, dict)"
   ]
  }
 ],
 "metadata": {
  "kernelspec": {
   "display_name": "dip",
   "language": "python",
   "name": "python3"
  },
  "language_info": {
   "codemirror_mode": {
    "name": "ipython",
    "version": 3
   },
   "file_extension": ".py",
   "mimetype": "text/x-python",
   "name": "python",
   "nbconvert_exporter": "python",
   "pygments_lexer": "ipython3",
   "version": "3.8.16"
  },
  "orig_nbformat": 4
 },
 "nbformat": 4,
 "nbformat_minor": 2
}
